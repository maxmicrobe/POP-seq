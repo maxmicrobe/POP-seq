{
 "cells": [
  {
   "cell_type": "code",
   "execution_count": 1,
   "metadata": {},
   "outputs": [],
   "source": [
    "import pandas as pd"
   ]
  },
  {
   "cell_type": "code",
   "execution_count": 2,
   "metadata": {},
   "outputs": [],
   "source": [
    "two_way_blast = pd.read_csv('./MG_BW_TWBH.txt', sep='\\t')"
   ]
  },
  {
   "cell_type": "code",
   "execution_count": 3,
   "metadata": {},
   "outputs": [
    {
     "data": {
      "text/html": [
       "<div>\n",
       "<style scoped>\n",
       "    .dataframe tbody tr th:only-of-type {\n",
       "        vertical-align: middle;\n",
       "    }\n",
       "\n",
       "    .dataframe tbody tr th {\n",
       "        vertical-align: top;\n",
       "    }\n",
       "\n",
       "    .dataframe thead th {\n",
       "        text-align: right;\n",
       "    }\n",
       "</style>\n",
       "<table border=\"1\" class=\"dataframe\">\n",
       "  <thead>\n",
       "    <tr style=\"text-align: right;\">\n",
       "      <th></th>\n",
       "      <th>gene_id</th>\n",
       "      <th>CP009273_intergenic_score</th>\n",
       "      <th>CP009273_intergenic.ffn</th>\n",
       "      <th>NC_000913_intergenic_score</th>\n",
       "      <th>NC_000913_intergenic.ffn</th>\n",
       "    </tr>\n",
       "  </thead>\n",
       "  <tbody>\n",
       "    <tr>\n",
       "      <th>0</th>\n",
       "      <td>forb0001_forb0002|255_336</td>\n",
       "      <td>1.0</td>\n",
       "      <td>forBW25113_0001_forBW25113_0002|255_336</td>\n",
       "      <td>1.0</td>\n",
       "      <td>forb0001_forb0002|255_336</td>\n",
       "    </tr>\n",
       "    <tr>\n",
       "      <th>1</th>\n",
       "      <td>forb0004_forb0005|5020_5233</td>\n",
       "      <td>1.0</td>\n",
       "      <td>forBW25113_0004_forBW25113_0005|5020_5233</td>\n",
       "      <td>1.0</td>\n",
       "      <td>forb0004_forb0005|5020_5233</td>\n",
       "    </tr>\n",
       "    <tr>\n",
       "      <th>2</th>\n",
       "      <td>forb0005_revb0006|5530_5682</td>\n",
       "      <td>1.0</td>\n",
       "      <td>forBW25113_0005_revBW25113_0006|5530_5682</td>\n",
       "      <td>1.0</td>\n",
       "      <td>forb0005_revb0006|5530_5682</td>\n",
       "    </tr>\n",
       "    <tr>\n",
       "      <th>3</th>\n",
       "      <td>revb0006_revb0007|6459_6528</td>\n",
       "      <td>1.0</td>\n",
       "      <td>revBW25113_0006_revBW25113_0007|6459_6528</td>\n",
       "      <td>1.0</td>\n",
       "      <td>revb0006_revb0007|6459_6528</td>\n",
       "    </tr>\n",
       "    <tr>\n",
       "      <th>4</th>\n",
       "      <td>revb0007_forb0008|7959_8237</td>\n",
       "      <td>1.0</td>\n",
       "      <td>revBW25113_0007_forBW25113_0008|7959_8237</td>\n",
       "      <td>1.0</td>\n",
       "      <td>revb0007_forb0008|7959_8237</td>\n",
       "    </tr>\n",
       "  </tbody>\n",
       "</table>\n",
       "</div>"
      ],
      "text/plain": [
       "                       gene_id  CP009273_intergenic_score  \\\n",
       "0    forb0001_forb0002|255_336                        1.0   \n",
       "1  forb0004_forb0005|5020_5233                        1.0   \n",
       "2  forb0005_revb0006|5530_5682                        1.0   \n",
       "3  revb0006_revb0007|6459_6528                        1.0   \n",
       "4  revb0007_forb0008|7959_8237                        1.0   \n",
       "\n",
       "                     CP009273_intergenic.ffn  NC_000913_intergenic_score  \\\n",
       "0    forBW25113_0001_forBW25113_0002|255_336                         1.0   \n",
       "1  forBW25113_0004_forBW25113_0005|5020_5233                         1.0   \n",
       "2  forBW25113_0005_revBW25113_0006|5530_5682                         1.0   \n",
       "3  revBW25113_0006_revBW25113_0007|6459_6528                         1.0   \n",
       "4  revBW25113_0007_forBW25113_0008|7959_8237                         1.0   \n",
       "\n",
       "      NC_000913_intergenic.ffn  \n",
       "0    forb0001_forb0002|255_336  \n",
       "1  forb0004_forb0005|5020_5233  \n",
       "2  forb0005_revb0006|5530_5682  \n",
       "3  revb0006_revb0007|6459_6528  \n",
       "4  revb0007_forb0008|7959_8237  "
      ]
     },
     "execution_count": 3,
     "metadata": {},
     "output_type": "execute_result"
    }
   ],
   "source": [
    "# The intergenic regions in MG1655 and BW25113 were extracted and saved in fasta files. \n",
    "# two way reciprocal blast analysis were performed to determine the conservation of the intergenic regions\n",
    "# If a promoter region in MG1655 and BW25113 are 100% conserved, then the TF binding sites are assigned to BW25113\n",
    "# The position of the TF binding sites are then corrected according to the BW25113 genome. \n",
    "\n",
    "\n",
    "# result of the two-way-blast\n",
    "# 1.0 means 100% conserved\n",
    "two_way_blast.head()"
   ]
  },
  {
   "cell_type": "code",
   "execution_count": 7,
   "metadata": {},
   "outputs": [],
   "source": [
    "# reading the MG1655 TF. binding site from EcoCyc, which I save in a bed file\n",
    "TF = pd.read_csv('./Ecocyc_binding_motifs.bed', sep='\\t', names=['accession','start','stop',\n",
    "                                                                'TF_name','score','strand',\n",
    "                                                                'st','sp','color'])"
   ]
  },
  {
   "cell_type": "code",
   "execution_count": 8,
   "metadata": {
    "scrolled": true
   },
   "outputs": [
    {
     "data": {
      "text/html": [
       "<div>\n",
       "<style scoped>\n",
       "    .dataframe tbody tr th:only-of-type {\n",
       "        vertical-align: middle;\n",
       "    }\n",
       "\n",
       "    .dataframe tbody tr th {\n",
       "        vertical-align: top;\n",
       "    }\n",
       "\n",
       "    .dataframe thead th {\n",
       "        text-align: right;\n",
       "    }\n",
       "</style>\n",
       "<table border=\"1\" class=\"dataframe\">\n",
       "  <thead>\n",
       "    <tr style=\"text-align: right;\">\n",
       "      <th></th>\n",
       "      <th>accession</th>\n",
       "      <th>start</th>\n",
       "      <th>stop</th>\n",
       "      <th>TF_name</th>\n",
       "      <th>score</th>\n",
       "      <th>strand</th>\n",
       "      <th>st</th>\n",
       "      <th>sp</th>\n",
       "      <th>color</th>\n",
       "    </tr>\n",
       "  </thead>\n",
       "  <tbody>\n",
       "    <tr>\n",
       "      <th>0</th>\n",
       "      <td>NC_000913</td>\n",
       "      <td>17384</td>\n",
       "      <td>17401</td>\n",
       "      <td>NhaR-Na+DNA-binding-site</td>\n",
       "      <td>1000</td>\n",
       "      <td>+</td>\n",
       "      <td>17384</td>\n",
       "      <td>17401</td>\n",
       "      <td>255,0,0</td>\n",
       "    </tr>\n",
       "    <tr>\n",
       "      <th>1</th>\n",
       "      <td>NC_000913</td>\n",
       "      <td>17406</td>\n",
       "      <td>17423</td>\n",
       "      <td>NhaR-Na+DNA-binding-site</td>\n",
       "      <td>1000</td>\n",
       "      <td>+</td>\n",
       "      <td>17406</td>\n",
       "      <td>17423</td>\n",
       "      <td>255,0,0</td>\n",
       "    </tr>\n",
       "    <tr>\n",
       "      <th>2</th>\n",
       "      <td>NC_000913</td>\n",
       "      <td>17416</td>\n",
       "      <td>17433</td>\n",
       "      <td>NhaR-Na+DNA-binding-site</td>\n",
       "      <td>1000</td>\n",
       "      <td>+</td>\n",
       "      <td>17416</td>\n",
       "      <td>17433</td>\n",
       "      <td>255,0,0</td>\n",
       "    </tr>\n",
       "    <tr>\n",
       "      <th>3</th>\n",
       "      <td>NC_000913</td>\n",
       "      <td>17447</td>\n",
       "      <td>17464</td>\n",
       "      <td>NhaR-Na+DNA-binding-site</td>\n",
       "      <td>1000</td>\n",
       "      <td>+</td>\n",
       "      <td>17447</td>\n",
       "      <td>17464</td>\n",
       "      <td>255,0,0</td>\n",
       "    </tr>\n",
       "    <tr>\n",
       "      <th>4</th>\n",
       "      <td>NC_000913</td>\n",
       "      <td>17894</td>\n",
       "      <td>17927</td>\n",
       "      <td>YdeO</td>\n",
       "      <td>1000</td>\n",
       "      <td>+</td>\n",
       "      <td>17894</td>\n",
       "      <td>17927</td>\n",
       "      <td>255,0,0</td>\n",
       "    </tr>\n",
       "  </tbody>\n",
       "</table>\n",
       "</div>"
      ],
      "text/plain": [
       "   accession  start   stop                   TF_name  score strand     st  \\\n",
       "0  NC_000913  17384  17401  NhaR-Na+DNA-binding-site   1000      +  17384   \n",
       "1  NC_000913  17406  17423  NhaR-Na+DNA-binding-site   1000      +  17406   \n",
       "2  NC_000913  17416  17433  NhaR-Na+DNA-binding-site   1000      +  17416   \n",
       "3  NC_000913  17447  17464  NhaR-Na+DNA-binding-site   1000      +  17447   \n",
       "4  NC_000913  17894  17927                      YdeO   1000      +  17894   \n",
       "\n",
       "      sp    color  \n",
       "0  17401  255,0,0  \n",
       "1  17423  255,0,0  \n",
       "2  17433  255,0,0  \n",
       "3  17464  255,0,0  \n",
       "4  17927  255,0,0  "
      ]
     },
     "execution_count": 8,
     "metadata": {},
     "output_type": "execute_result"
    }
   ],
   "source": [
    "# this is the bed file format\n",
    "TF.head()"
   ]
  },
  {
   "cell_type": "code",
   "execution_count": 9,
   "metadata": {},
   "outputs": [],
   "source": [
    "\n",
    "### BW ###\n",
    "\n",
    "# extract the starts of the intergenic regions\n",
    "CP009273_start=two_way_blast['CP009273_intergenic.ffn'].str.split('|', expand=True)[1].str.split('_', expand=True)[0]\n",
    "\n",
    "#extract the end of intergenic regions\n",
    "CP009273_end=two_way_blast['CP009273_intergenic.ffn'].str.split('|', expand=True)[1].str.split('_', expand=True)[1]\n",
    "\n",
    "# add those to the TWB dataframe\n",
    "two_way_blast['CP009273_start']=CP009273_start\n",
    "two_way_blast['CP009273_end']=CP009273_end\n",
    "\n",
    "\n",
    "\n",
    "### MG ###\n",
    "\n",
    "#NC_000913_start=two_way_blast['NC_000913_intergenic.ffn'].str.split('|', expand=True)[1].str.split('_', expand=True)[0]\n",
    "\n",
    "#NC_000913_end=two_way_blast['NC_000913_intergenic.ffn'].str.split('|', expand=True)[1].str.split('_', expand=True)[1]\n",
    "\n",
    "#two_way_blast['NC_000913_start']=NC_000913_start\n",
    "#two_way_blast['NC_000913_end']=NC_000913_end"
   ]
  },
  {
   "cell_type": "code",
   "execution_count": 10,
   "metadata": {},
   "outputs": [],
   "source": [
    "\n",
    "two_way_blast.dropna(subset=['NC_000913_start','NC_000913_end'], inplace=True)"
   ]
  },
  {
   "cell_type": "code",
   "execution_count": 11,
   "metadata": {},
   "outputs": [],
   "source": [
    "# assigning TFBS to BW and correcting the TFBS positions. \n",
    "tf_start=[]\n",
    "tf_stop=[]\n",
    "intergenic_start=[]\n",
    "tf_name=[]\n",
    "\n",
    "for i1,r1 in TF.iterrows():\n",
    "    for i,r in two_way_blast.iterrows():\n",
    "        \n",
    "        start_end=list(range(int(r['NC_000913_start']),int(r['NC_000913_end'])))\n",
    "        if r1['start'] in start_end or r1['stop'] in start_end:\n",
    "            tf_start.append(r1['start'])\n",
    "            tf_stop.append(r1['stop'])\n",
    "            intergenic_start.append(r['NC_000913_start'])\n",
    "            tf_name.append(r1['TF_name'])\n",
    "\n",
    "        "
   ]
  },
  {
   "cell_type": "code",
   "execution_count": 12,
   "metadata": {},
   "outputs": [
    {
     "data": {
      "text/plain": [
       "2196"
      ]
     },
     "execution_count": 12,
     "metadata": {},
     "output_type": "execute_result"
    }
   ],
   "source": [
    "len(tf_start)"
   ]
  },
  {
   "cell_type": "code",
   "execution_count": 13,
   "metadata": {},
   "outputs": [],
   "source": [
    "tf_MG_df = pd.DataFrame({\"tf_start\":tf_start, \"tf_end\":tf_stop, \n",
    "                         \"intergenic_start\":intergenic_start,\n",
    "                        \"tf_name\": tf_name})"
   ]
  },
  {
   "cell_type": "code",
   "execution_count": 14,
   "metadata": {},
   "outputs": [
    {
     "data": {
      "text/html": [
       "<div>\n",
       "<style scoped>\n",
       "    .dataframe tbody tr th:only-of-type {\n",
       "        vertical-align: middle;\n",
       "    }\n",
       "\n",
       "    .dataframe tbody tr th {\n",
       "        vertical-align: top;\n",
       "    }\n",
       "\n",
       "    .dataframe thead th {\n",
       "        text-align: right;\n",
       "    }\n",
       "</style>\n",
       "<table border=\"1\" class=\"dataframe\">\n",
       "  <thead>\n",
       "    <tr style=\"text-align: right;\">\n",
       "      <th></th>\n",
       "      <th>tf_start</th>\n",
       "      <th>tf_end</th>\n",
       "      <th>intergenic_start</th>\n",
       "      <th>tf_name</th>\n",
       "    </tr>\n",
       "  </thead>\n",
       "  <tbody>\n",
       "    <tr>\n",
       "      <th>0</th>\n",
       "      <td>17384</td>\n",
       "      <td>17401</td>\n",
       "      <td>16903</td>\n",
       "      <td>NhaR-Na+DNA-binding-site</td>\n",
       "    </tr>\n",
       "    <tr>\n",
       "      <th>1</th>\n",
       "      <td>17406</td>\n",
       "      <td>17423</td>\n",
       "      <td>16903</td>\n",
       "      <td>NhaR-Na+DNA-binding-site</td>\n",
       "    </tr>\n",
       "    <tr>\n",
       "      <th>2</th>\n",
       "      <td>17416</td>\n",
       "      <td>17433</td>\n",
       "      <td>16903</td>\n",
       "      <td>NhaR-Na+DNA-binding-site</td>\n",
       "    </tr>\n",
       "    <tr>\n",
       "      <th>3</th>\n",
       "      <td>17447</td>\n",
       "      <td>17464</td>\n",
       "      <td>16903</td>\n",
       "      <td>NhaR-Na+DNA-binding-site</td>\n",
       "    </tr>\n",
       "    <tr>\n",
       "      <th>4</th>\n",
       "      <td>28252</td>\n",
       "      <td>28272</td>\n",
       "      <td>28207</td>\n",
       "      <td>ArgP</td>\n",
       "    </tr>\n",
       "  </tbody>\n",
       "</table>\n",
       "</div>"
      ],
      "text/plain": [
       "   tf_start  tf_end intergenic_start                   tf_name\n",
       "0     17384   17401            16903  NhaR-Na+DNA-binding-site\n",
       "1     17406   17423            16903  NhaR-Na+DNA-binding-site\n",
       "2     17416   17433            16903  NhaR-Na+DNA-binding-site\n",
       "3     17447   17464            16903  NhaR-Na+DNA-binding-site\n",
       "4     28252   28272            28207                      ArgP"
      ]
     },
     "execution_count": 14,
     "metadata": {},
     "output_type": "execute_result"
    }
   ],
   "source": [
    "tf_MG_df.head()"
   ]
  },
  {
   "cell_type": "code",
   "execution_count": 15,
   "metadata": {},
   "outputs": [],
   "source": [
    "both=pd.merge(tf_MG_df, two_way_blast, left_on='intergenic_start', right_on='NC_000913_start')"
   ]
  },
  {
   "cell_type": "code",
   "execution_count": 16,
   "metadata": {},
   "outputs": [
    {
     "data": {
      "text/plain": [
       "2196"
      ]
     },
     "execution_count": 16,
     "metadata": {},
     "output_type": "execute_result"
    }
   ],
   "source": [
    "len(both)"
   ]
  },
  {
   "cell_type": "code",
   "execution_count": 17,
   "metadata": {},
   "outputs": [],
   "source": [
    "both['tf_length']=both.tf_end - both.tf_start\n",
    "\n",
    "both.intergenic_start=both.intergenic_start.astype(int)\n",
    "\n",
    "both['from_start']=both.tf_start - both.intergenic_start\n",
    "\n",
    "both_final=both[both['CP009273_intergenic_score']==1.0]"
   ]
  },
  {
   "cell_type": "code",
   "execution_count": 21,
   "metadata": {},
   "outputs": [
    {
     "name": "stderr",
     "output_type": "stream",
     "text": [
      "/Users/mab/anaconda3/lib/python3.8/site-packages/pandas/core/generic.py:5494: SettingWithCopyWarning: \n",
      "A value is trying to be set on a copy of a slice from a DataFrame.\n",
      "Try using .loc[row_indexer,col_indexer] = value instead\n",
      "\n",
      "See the caveats in the documentation: https://pandas.pydata.org/pandas-docs/stable/user_guide/indexing.html#returning-a-view-versus-a-copy\n",
      "  self[name] = value\n"
     ]
    }
   ],
   "source": [
    "both_final.CP009273_start = both_final.CP009273_start.astype(int)\n",
    "both_final.CP009273_end = both_final.CP009273_end.astype(int)"
   ]
  },
  {
   "cell_type": "code",
   "execution_count": 22,
   "metadata": {},
   "outputs": [
    {
     "name": "stderr",
     "output_type": "stream",
     "text": [
      "<ipython-input-22-f888f3704881>:1: SettingWithCopyWarning: \n",
      "A value is trying to be set on a copy of a slice from a DataFrame.\n",
      "Try using .loc[row_indexer,col_indexer] = value instead\n",
      "\n",
      "See the caveats in the documentation: https://pandas.pydata.org/pandas-docs/stable/user_guide/indexing.html#returning-a-view-versus-a-copy\n",
      "  both_final['CP009273_TF_start']= both_final['CP009273_start']+ both['from_start']\n",
      "<ipython-input-22-f888f3704881>:2: SettingWithCopyWarning: \n",
      "A value is trying to be set on a copy of a slice from a DataFrame.\n",
      "Try using .loc[row_indexer,col_indexer] = value instead\n",
      "\n",
      "See the caveats in the documentation: https://pandas.pydata.org/pandas-docs/stable/user_guide/indexing.html#returning-a-view-versus-a-copy\n",
      "  both_final['CP009273_TF_stop']=both_final['CP009273_TF_start']+ both['tf_length']\n"
     ]
    }
   ],
   "source": [
    "both_final['CP009273_TF_start']= both_final['CP009273_start']+ both['from_start']\n",
    "both_final['CP009273_TF_stop']=both_final['CP009273_TF_start']+ both['tf_length']"
   ]
  },
  {
   "cell_type": "code",
   "execution_count": 24,
   "metadata": {},
   "outputs": [
    {
     "data": {
      "text/html": [
       "<div>\n",
       "<style scoped>\n",
       "    .dataframe tbody tr th:only-of-type {\n",
       "        vertical-align: middle;\n",
       "    }\n",
       "\n",
       "    .dataframe tbody tr th {\n",
       "        vertical-align: top;\n",
       "    }\n",
       "\n",
       "    .dataframe thead th {\n",
       "        text-align: right;\n",
       "    }\n",
       "</style>\n",
       "<table border=\"1\" class=\"dataframe\">\n",
       "  <thead>\n",
       "    <tr style=\"text-align: right;\">\n",
       "      <th></th>\n",
       "      <th>tf_start</th>\n",
       "      <th>tf_end</th>\n",
       "      <th>intergenic_start</th>\n",
       "      <th>tf_name</th>\n",
       "      <th>gene_id</th>\n",
       "      <th>CP009273_intergenic_score</th>\n",
       "      <th>CP009273_intergenic.ffn</th>\n",
       "      <th>NC_000913_intergenic_score</th>\n",
       "      <th>NC_000913_intergenic.ffn</th>\n",
       "      <th>CP009273_start</th>\n",
       "      <th>CP009273_end</th>\n",
       "      <th>NC_000913_start</th>\n",
       "      <th>NC_000913_end</th>\n",
       "      <th>tf_length</th>\n",
       "      <th>from_start</th>\n",
       "      <th>CP009273_TF_start</th>\n",
       "      <th>CP009273_TF_stop</th>\n",
       "    </tr>\n",
       "  </thead>\n",
       "  <tbody>\n",
       "    <tr>\n",
       "      <th>0</th>\n",
       "      <td>17384</td>\n",
       "      <td>17401</td>\n",
       "      <td>16903</td>\n",
       "      <td>NhaR-Na+DNA-binding-site</td>\n",
       "      <td>revb4412_forb0019|16903_17488</td>\n",
       "      <td>1.0</td>\n",
       "      <td>revBW25113_4412_forBW25113_0019|16903_17488</td>\n",
       "      <td>1.0</td>\n",
       "      <td>revb4412_forb0019|16903_17488</td>\n",
       "      <td>16903</td>\n",
       "      <td>17488</td>\n",
       "      <td>16903</td>\n",
       "      <td>17488</td>\n",
       "      <td>17</td>\n",
       "      <td>481</td>\n",
       "      <td>17384.0</td>\n",
       "      <td>17401.0</td>\n",
       "    </tr>\n",
       "    <tr>\n",
       "      <th>1</th>\n",
       "      <td>17406</td>\n",
       "      <td>17423</td>\n",
       "      <td>16903</td>\n",
       "      <td>NhaR-Na+DNA-binding-site</td>\n",
       "      <td>revb4412_forb0019|16903_17488</td>\n",
       "      <td>1.0</td>\n",
       "      <td>revBW25113_4412_forBW25113_0019|16903_17488</td>\n",
       "      <td>1.0</td>\n",
       "      <td>revb4412_forb0019|16903_17488</td>\n",
       "      <td>16903</td>\n",
       "      <td>17488</td>\n",
       "      <td>16903</td>\n",
       "      <td>17488</td>\n",
       "      <td>17</td>\n",
       "      <td>503</td>\n",
       "      <td>17406.0</td>\n",
       "      <td>17423.0</td>\n",
       "    </tr>\n",
       "    <tr>\n",
       "      <th>2</th>\n",
       "      <td>17416</td>\n",
       "      <td>17433</td>\n",
       "      <td>16903</td>\n",
       "      <td>NhaR-Na+DNA-binding-site</td>\n",
       "      <td>revb4412_forb0019|16903_17488</td>\n",
       "      <td>1.0</td>\n",
       "      <td>revBW25113_4412_forBW25113_0019|16903_17488</td>\n",
       "      <td>1.0</td>\n",
       "      <td>revb4412_forb0019|16903_17488</td>\n",
       "      <td>16903</td>\n",
       "      <td>17488</td>\n",
       "      <td>16903</td>\n",
       "      <td>17488</td>\n",
       "      <td>17</td>\n",
       "      <td>513</td>\n",
       "      <td>17416.0</td>\n",
       "      <td>17433.0</td>\n",
       "    </tr>\n",
       "    <tr>\n",
       "      <th>3</th>\n",
       "      <td>17447</td>\n",
       "      <td>17464</td>\n",
       "      <td>16903</td>\n",
       "      <td>NhaR-Na+DNA-binding-site</td>\n",
       "      <td>revb4412_forb0019|16903_17488</td>\n",
       "      <td>1.0</td>\n",
       "      <td>revBW25113_4412_forBW25113_0019|16903_17488</td>\n",
       "      <td>1.0</td>\n",
       "      <td>revb4412_forb0019|16903_17488</td>\n",
       "      <td>16903</td>\n",
       "      <td>17488</td>\n",
       "      <td>16903</td>\n",
       "      <td>17488</td>\n",
       "      <td>17</td>\n",
       "      <td>544</td>\n",
       "      <td>17447.0</td>\n",
       "      <td>17464.0</td>\n",
       "    </tr>\n",
       "    <tr>\n",
       "      <th>4</th>\n",
       "      <td>28252</td>\n",
       "      <td>28272</td>\n",
       "      <td>28207</td>\n",
       "      <td>ArgP</td>\n",
       "      <td>forb0030_forb0031|28207_28373</td>\n",
       "      <td>1.0</td>\n",
       "      <td>forBW25113_0030_forBW25113_0031|28207_28373</td>\n",
       "      <td>1.0</td>\n",
       "      <td>forb0030_forb0031|28207_28373</td>\n",
       "      <td>28207</td>\n",
       "      <td>28373</td>\n",
       "      <td>28207</td>\n",
       "      <td>28373</td>\n",
       "      <td>20</td>\n",
       "      <td>45</td>\n",
       "      <td>28252.0</td>\n",
       "      <td>28272.0</td>\n",
       "    </tr>\n",
       "  </tbody>\n",
       "</table>\n",
       "</div>"
      ],
      "text/plain": [
       "   tf_start  tf_end  intergenic_start                   tf_name  \\\n",
       "0     17384   17401             16903  NhaR-Na+DNA-binding-site   \n",
       "1     17406   17423             16903  NhaR-Na+DNA-binding-site   \n",
       "2     17416   17433             16903  NhaR-Na+DNA-binding-site   \n",
       "3     17447   17464             16903  NhaR-Na+DNA-binding-site   \n",
       "4     28252   28272             28207                      ArgP   \n",
       "\n",
       "                         gene_id  CP009273_intergenic_score  \\\n",
       "0  revb4412_forb0019|16903_17488                        1.0   \n",
       "1  revb4412_forb0019|16903_17488                        1.0   \n",
       "2  revb4412_forb0019|16903_17488                        1.0   \n",
       "3  revb4412_forb0019|16903_17488                        1.0   \n",
       "4  forb0030_forb0031|28207_28373                        1.0   \n",
       "\n",
       "                       CP009273_intergenic.ffn  NC_000913_intergenic_score  \\\n",
       "0  revBW25113_4412_forBW25113_0019|16903_17488                         1.0   \n",
       "1  revBW25113_4412_forBW25113_0019|16903_17488                         1.0   \n",
       "2  revBW25113_4412_forBW25113_0019|16903_17488                         1.0   \n",
       "3  revBW25113_4412_forBW25113_0019|16903_17488                         1.0   \n",
       "4  forBW25113_0030_forBW25113_0031|28207_28373                         1.0   \n",
       "\n",
       "        NC_000913_intergenic.ffn  CP009273_start  CP009273_end  \\\n",
       "0  revb4412_forb0019|16903_17488           16903         17488   \n",
       "1  revb4412_forb0019|16903_17488           16903         17488   \n",
       "2  revb4412_forb0019|16903_17488           16903         17488   \n",
       "3  revb4412_forb0019|16903_17488           16903         17488   \n",
       "4  forb0030_forb0031|28207_28373           28207         28373   \n",
       "\n",
       "  NC_000913_start NC_000913_end  tf_length  from_start  CP009273_TF_start  \\\n",
       "0           16903         17488         17         481            17384.0   \n",
       "1           16903         17488         17         503            17406.0   \n",
       "2           16903         17488         17         513            17416.0   \n",
       "3           16903         17488         17         544            17447.0   \n",
       "4           28207         28373         20          45            28252.0   \n",
       "\n",
       "   CP009273_TF_stop  \n",
       "0           17401.0  \n",
       "1           17423.0  \n",
       "2           17433.0  \n",
       "3           17464.0  \n",
       "4           28272.0  "
      ]
     },
     "execution_count": 24,
     "metadata": {},
     "output_type": "execute_result"
    }
   ],
   "source": [
    "both_final.head()"
   ]
  },
  {
   "cell_type": "code",
   "execution_count": 25,
   "metadata": {},
   "outputs": [],
   "source": [
    "final = both_final[['tf_name','CP009273_TF_start', 'CP009273_TF_stop']]"
   ]
  },
  {
   "cell_type": "code",
   "execution_count": 26,
   "metadata": {},
   "outputs": [
    {
     "name": "stderr",
     "output_type": "stream",
     "text": [
      "<ipython-input-26-dc45d15d19e8>:1: SettingWithCopyWarning: \n",
      "A value is trying to be set on a copy of a slice from a DataFrame.\n",
      "Try using .loc[row_indexer,col_indexer] = value instead\n",
      "\n",
      "See the caveats in the documentation: https://pandas.pydata.org/pandas-docs/stable/user_guide/indexing.html#returning-a-view-versus-a-copy\n",
      "  final['accession']='CP009273'\n",
      "<ipython-input-26-dc45d15d19e8>:2: SettingWithCopyWarning: \n",
      "A value is trying to be set on a copy of a slice from a DataFrame.\n",
      "Try using .loc[row_indexer,col_indexer] = value instead\n",
      "\n",
      "See the caveats in the documentation: https://pandas.pydata.org/pandas-docs/stable/user_guide/indexing.html#returning-a-view-versus-a-copy\n",
      "  final['score']=1000\n",
      "<ipython-input-26-dc45d15d19e8>:3: SettingWithCopyWarning: \n",
      "A value is trying to be set on a copy of a slice from a DataFrame.\n",
      "Try using .loc[row_indexer,col_indexer] = value instead\n",
      "\n",
      "See the caveats in the documentation: https://pandas.pydata.org/pandas-docs/stable/user_guide/indexing.html#returning-a-view-versus-a-copy\n",
      "  final['strand']='+'\n",
      "<ipython-input-26-dc45d15d19e8>:4: SettingWithCopyWarning: \n",
      "A value is trying to be set on a copy of a slice from a DataFrame.\n",
      "Try using .loc[row_indexer,col_indexer] = value instead\n",
      "\n",
      "See the caveats in the documentation: https://pandas.pydata.org/pandas-docs/stable/user_guide/indexing.html#returning-a-view-versus-a-copy\n",
      "  final['color']='255,0,0'\n"
     ]
    }
   ],
   "source": [
    "final['accession']='CP009273'\n",
    "final['score']=1000\n",
    "final['strand']='+'\n",
    "final['color']='255,0,0'"
   ]
  },
  {
   "cell_type": "code",
   "execution_count": 27,
   "metadata": {},
   "outputs": [
    {
     "name": "stderr",
     "output_type": "stream",
     "text": [
      "<ipython-input-27-3fc3a4ef1694>:1: SettingWithCopyWarning: \n",
      "A value is trying to be set on a copy of a slice from a DataFrame\n",
      "\n",
      "See the caveats in the documentation: https://pandas.pydata.org/pandas-docs/stable/user_guide/indexing.html#returning-a-view-versus-a-copy\n",
      "  final.sort_values(by='tf_name', inplace=True)\n"
     ]
    }
   ],
   "source": [
    "final.sort_values(by='tf_name', inplace=True)"
   ]
  },
  {
   "cell_type": "code",
   "execution_count": 28,
   "metadata": {},
   "outputs": [],
   "source": [
    "tf_list=final.tf_name.unique()"
   ]
  },
  {
   "cell_type": "code",
   "execution_count": 29,
   "metadata": {},
   "outputs": [
    {
     "name": "stderr",
     "output_type": "stream",
     "text": [
      "/Users/mab/anaconda3/lib/python3.8/site-packages/pandas/core/generic.py:5494: SettingWithCopyWarning: \n",
      "A value is trying to be set on a copy of a slice from a DataFrame.\n",
      "Try using .loc[row_indexer,col_indexer] = value instead\n",
      "\n",
      "See the caveats in the documentation: https://pandas.pydata.org/pandas-docs/stable/user_guide/indexing.html#returning-a-view-versus-a-copy\n",
      "  self[name] = value\n"
     ]
    }
   ],
   "source": [
    "final.tf_name=final.tf_name.replace('\\/','-')"
   ]
  },
  {
   "cell_type": "code",
   "execution_count": 30,
   "metadata": {},
   "outputs": [],
   "source": [
    "for i in tf_list:\n",
    "    df = final[final.tf_name == i]\n",
    "    \n",
    "    if len(df) > 15:\n",
    "            \n",
    "        try:\n",
    "            with open('%s.bed'%i, 'w') as f:\n",
    "                for i, r in df.iterrows():\n",
    "                    f.write('%s\\t%i\\t%i\\t%s\\t%i\\t%s\\t%i\\t%i\\t%s\\n'%(r['accession'], r['CP009273_TF_start'], r['CP009273_TF_stop'],\n",
    "                           r['tf_name'], r['score'], r['strand'], r['CP009273_TF_start'], \n",
    "                            r['CP009273_TF_stop'],r['color']))\n",
    "        except:\n",
    "            pass"
   ]
  },
  {
   "cell_type": "code",
   "execution_count": 31,
   "metadata": {},
   "outputs": [],
   "source": [
    "# making bed files for Wellington\n",
    "for i in tf_list:\n",
    "    df = final[final.tf_name == i]\n",
    "    \n",
    "    if len(df) > 15:\n",
    "            \n",
    "        try:\n",
    "            with open('%s.modified.bed'%i, 'w') as f:\n",
    "                for i, r in df.iterrows():\n",
    "                    f.write('%s\\t%i\\t%i\\t%s\\n'%(r['accession'],r['CP009273_TF_start'], \n",
    "                                                r['CP009273_TF_stop'], r['strand']))                    \n",
    "                                                                    \n",
    "                                                                   \n",
    "        except:\n",
    "            pass"
   ]
  },
  {
   "cell_type": "code",
   "execution_count": 32,
   "metadata": {},
   "outputs": [],
   "source": [
    "final=final.sort_values(by='CP009273_TF_start')"
   ]
  },
  {
   "cell_type": "code",
   "execution_count": 33,
   "metadata": {},
   "outputs": [
    {
     "data": {
      "text/html": [
       "<div>\n",
       "<style scoped>\n",
       "    .dataframe tbody tr th:only-of-type {\n",
       "        vertical-align: middle;\n",
       "    }\n",
       "\n",
       "    .dataframe tbody tr th {\n",
       "        vertical-align: top;\n",
       "    }\n",
       "\n",
       "    .dataframe thead th {\n",
       "        text-align: right;\n",
       "    }\n",
       "</style>\n",
       "<table border=\"1\" class=\"dataframe\">\n",
       "  <thead>\n",
       "    <tr style=\"text-align: right;\">\n",
       "      <th></th>\n",
       "      <th>tf_name</th>\n",
       "      <th>CP009273_TF_start</th>\n",
       "      <th>CP009273_TF_stop</th>\n",
       "      <th>accession</th>\n",
       "      <th>score</th>\n",
       "      <th>strand</th>\n",
       "      <th>color</th>\n",
       "    </tr>\n",
       "  </thead>\n",
       "  <tbody>\n",
       "    <tr>\n",
       "      <th>0</th>\n",
       "      <td>NhaR-Na+DNA-binding-site</td>\n",
       "      <td>17384.0</td>\n",
       "      <td>17401.0</td>\n",
       "      <td>CP009273</td>\n",
       "      <td>1000</td>\n",
       "      <td>+</td>\n",
       "      <td>255,0,0</td>\n",
       "    </tr>\n",
       "    <tr>\n",
       "      <th>1</th>\n",
       "      <td>NhaR-Na+DNA-binding-site</td>\n",
       "      <td>17406.0</td>\n",
       "      <td>17423.0</td>\n",
       "      <td>CP009273</td>\n",
       "      <td>1000</td>\n",
       "      <td>+</td>\n",
       "      <td>255,0,0</td>\n",
       "    </tr>\n",
       "    <tr>\n",
       "      <th>2</th>\n",
       "      <td>NhaR-Na+DNA-binding-site</td>\n",
       "      <td>17416.0</td>\n",
       "      <td>17433.0</td>\n",
       "      <td>CP009273</td>\n",
       "      <td>1000</td>\n",
       "      <td>+</td>\n",
       "      <td>255,0,0</td>\n",
       "    </tr>\n",
       "    <tr>\n",
       "      <th>3</th>\n",
       "      <td>NhaR-Na+DNA-binding-site</td>\n",
       "      <td>17447.0</td>\n",
       "      <td>17464.0</td>\n",
       "      <td>CP009273</td>\n",
       "      <td>1000</td>\n",
       "      <td>+</td>\n",
       "      <td>255,0,0</td>\n",
       "    </tr>\n",
       "    <tr>\n",
       "      <th>4</th>\n",
       "      <td>ArgP</td>\n",
       "      <td>28252.0</td>\n",
       "      <td>28272.0</td>\n",
       "      <td>CP009273</td>\n",
       "      <td>1000</td>\n",
       "      <td>+</td>\n",
       "      <td>255,0,0</td>\n",
       "    </tr>\n",
       "  </tbody>\n",
       "</table>\n",
       "</div>"
      ],
      "text/plain": [
       "                    tf_name  CP009273_TF_start  CP009273_TF_stop accession  \\\n",
       "0  NhaR-Na+DNA-binding-site            17384.0           17401.0  CP009273   \n",
       "1  NhaR-Na+DNA-binding-site            17406.0           17423.0  CP009273   \n",
       "2  NhaR-Na+DNA-binding-site            17416.0           17433.0  CP009273   \n",
       "3  NhaR-Na+DNA-binding-site            17447.0           17464.0  CP009273   \n",
       "4                      ArgP            28252.0           28272.0  CP009273   \n",
       "\n",
       "   score strand    color  \n",
       "0   1000      +  255,0,0  \n",
       "1   1000      +  255,0,0  \n",
       "2   1000      +  255,0,0  \n",
       "3   1000      +  255,0,0  \n",
       "4   1000      +  255,0,0  "
      ]
     },
     "execution_count": 33,
     "metadata": {},
     "output_type": "execute_result"
    }
   ],
   "source": [
    "final.head()"
   ]
  },
  {
   "cell_type": "code",
   "execution_count": 34,
   "metadata": {},
   "outputs": [],
   "source": [
    "# finally writing the BW TF bed file\n",
    "with open('CP009273.bed', 'w') as f:\n",
    "    for i, r in final.iterrows():\n",
    "        f.write('%s\\t%i\\t%i\\t%s\\t%i\\t%s\\t%i\\t%i\\t%s\\n'%(r['accession'], r['CP009273_TF_start'], r['CP009273_TF_stop'],\n",
    "               r['tf_name'], r['score'], r['strand'], r['CP009273_TF_start'], \n",
    "                r['CP009273_TF_stop'],r['color']))\n"
   ]
  },
  {
   "cell_type": "code",
   "execution_count": null,
   "metadata": {},
   "outputs": [],
   "source": []
  }
 ],
 "metadata": {
  "kernelspec": {
   "display_name": "Python 3",
   "language": "python",
   "name": "python3"
  },
  "language_info": {
   "codemirror_mode": {
    "name": "ipython",
    "version": 3
   },
   "file_extension": ".py",
   "mimetype": "text/x-python",
   "name": "python",
   "nbconvert_exporter": "python",
   "pygments_lexer": "ipython3",
   "version": "3.8.8"
  }
 },
 "nbformat": 4,
 "nbformat_minor": 4
}
